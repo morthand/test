{
 "cells": [
  {
   "cell_type": "markdown",
   "metadata": {},
   "source": [
    "In this notebook we try to calculate 1 subjects AHI and RDI index from the XML annotation file, and see if it matches the calculated indexes given in the CSV file.\n",
    "\n",
    "The reason why is because of known issues with oxygen desaturation (SpO2) linking/missingness."
   ]
  },
  {
   "cell_type": "code",
   "execution_count": 25,
   "metadata": {},
   "outputs": [],
   "source": [
    "import numpy as np\n",
    "import os\n",
    "import pandas as pd\n",
    "import csv\n",
    "import xml.etree.ElementTree"
   ]
  },
  {
   "cell_type": "code",
   "execution_count": 2,
   "metadata": {
    "collapsed": true
   },
   "outputs": [],
   "source": [
    "basedir = '/Users/morten/Dropbox-personal/Dropbox/master-thesis/shhs/'\n",
    "fname_xml = \"%s/polysomnography/nssr/shhs2/shhs2-200081-nsrr.xml\" % basedir\n",
    "fname_csv = \"%s/shhs2-dataset-0.13.0.csv\" % basedir"
   ]
  },
  {
   "cell_type": "markdown",
   "metadata": {},
   "source": [
    "Function to read the the xml annotation file (not pretty)"
   ]
  },
  {
   "cell_type": "code",
   "execution_count": 3,
   "metadata": {
    "collapsed": true
   },
   "outputs": [],
   "source": [
    "def read_xml(xml_fp):\n",
    "    e = xml.etree.ElementTree.parse(xml_fp).getroot()\n",
    "    scored_events = e.find(\"ScoredEvents\")\n",
    "\n",
    "    col = ['EventType','EventConcept','Start','Duration','SignalLocation','SpO2Nadir','SpO2Baseline']\n",
    "    df_scored_events = pd.DataFrame(columns=col)\n",
    "    df_sleep_stages = pd.DataFrame(columns=['EventType','EventConcept','Start','Duration'])\n",
    "    duration = 0\n",
    "    for event in scored_events:\n",
    "        if event.find(\"EventConcept\").text == \"Recording Start Time\":\n",
    "            duration = float(event.find(\"Duration\").text)\n",
    "        if event.find(\"EventType\").text:\n",
    "            if event.find(\"EventType\").text == \"Stages|Stages\":\n",
    "                df_sleep_stages = df_sleep_stages.append(pd.Series([event.find(\"EventType\").text, \n",
    "                                                                    event.find(\"EventConcept\").text, \n",
    "                                                                    event.find(\"Start\").text, \n",
    "                                                                    event.find(\"Duration\").text], \n",
    "                                                                   index=['EventType','EventConcept','Start','Duration']), \n",
    "                                                         ignore_index=True)\n",
    "            elif event.find(\"EventConcept\").text == 'SpO2 desaturation|SpO2 desaturation':\n",
    "                 df_scored_events = df_scored_events.append(pd.Series([event.find(\"EventType\").text, \n",
    "                                                                      event.find(\"EventConcept\").text, \n",
    "                                                                      event.find(\"Start\").text, \n",
    "                                                                      event.find(\"Duration\").text, \n",
    "                                                                      event.find(\"SignalLocation\").text,\n",
    "                                                                      event.find(\"SpO2Nadir\").text,\n",
    "                                                                      event.find(\"SpO2Baseline\").text],\n",
    "                                                                     index=col), \n",
    "                                                           ignore_index=True)\n",
    "                \n",
    "            else:\n",
    "                df_scored_events = df_scored_events.append(pd.Series([event.find(\"EventType\").text, \n",
    "                                                                      event.find(\"EventConcept\").text, \n",
    "                                                                      event.find(\"Start\").text, \n",
    "                                                                      event.find(\"Duration\").text, \n",
    "                                                                      event.find(\"SignalLocation\").text,\n",
    "                                                                      None, None],\n",
    "                                                                     index=col), \n",
    "                                                           ignore_index=True)\n",
    "    \n",
    "    \n",
    "    return [df_scored_events, df_sleep_stages, duration]"
   ]
  },
  {
   "cell_type": "code",
   "execution_count": 4,
   "metadata": {},
   "outputs": [
    {
     "name": "stdout",
     "output_type": "stream",
     "text": [
      "Recording duration: 42630 sec.\n"
     ]
    }
   ],
   "source": [
    "df_scored_events, df_sleep_stages, duration = read_xml(fname_xml)\n",
    "print(\"Recording duration: %d sec.\" % duration)"
   ]
  },
  {
   "cell_type": "code",
   "execution_count": 5,
   "metadata": {
    "collapsed": true
   },
   "outputs": [],
   "source": [
    "df_csv = pd.read_csv(fname_csv, encoding = \"ISO-8859-1\")"
   ]
  },
  {
   "cell_type": "code",
   "execution_count": 6,
   "metadata": {},
   "outputs": [
    {
     "data": {
      "text/html": [
       "<div>\n",
       "<style>\n",
       "    .dataframe thead tr:only-child th {\n",
       "        text-align: right;\n",
       "    }\n",
       "\n",
       "    .dataframe thead th {\n",
       "        text-align: left;\n",
       "    }\n",
       "\n",
       "    .dataframe tbody tr th {\n",
       "        vertical-align: top;\n",
       "    }\n",
       "</style>\n",
       "<table border=\"1\" class=\"dataframe\">\n",
       "  <thead>\n",
       "    <tr style=\"text-align: right;\">\n",
       "      <th></th>\n",
       "      <th>nsrrid</th>\n",
       "      <th>pptid</th>\n",
       "      <th>ecgdate</th>\n",
       "      <th>lvh3_1</th>\n",
       "      <th>lvh3_3</th>\n",
       "      <th>st4_1_3</th>\n",
       "      <th>st5_1_3</th>\n",
       "      <th>lvhst</th>\n",
       "      <th>ventrate</th>\n",
       "      <th>qrs</th>\n",
       "      <th>...</th>\n",
       "      <th>QuAir</th>\n",
       "      <th>QuChest</th>\n",
       "      <th>QuAbdo</th>\n",
       "      <th>QuOxim</th>\n",
       "      <th>ligh</th>\n",
       "      <th>latreliable</th>\n",
       "      <th>Posn</th>\n",
       "      <th>gender</th>\n",
       "      <th>race</th>\n",
       "      <th>age_s1</th>\n",
       "    </tr>\n",
       "  </thead>\n",
       "  <tbody>\n",
       "    <tr>\n",
       "      <th>0</th>\n",
       "      <td>200077</td>\n",
       "      <td>77</td>\n",
       "      <td>1915.0</td>\n",
       "      <td>0.0</td>\n",
       "      <td>0.0</td>\n",
       "      <td>0.0</td>\n",
       "      <td>0.0</td>\n",
       "      <td>0.0</td>\n",
       "      <td>73.0</td>\n",
       "      <td>18.0</td>\n",
       "      <td>...</td>\n",
       "      <td>5.0</td>\n",
       "      <td>5.0</td>\n",
       "      <td>5.0</td>\n",
       "      <td>5.0</td>\n",
       "      <td>1.0</td>\n",
       "      <td>1.0</td>\n",
       "      <td>1.0</td>\n",
       "      <td>1</td>\n",
       "      <td>1</td>\n",
       "      <td>41</td>\n",
       "    </tr>\n",
       "    <tr>\n",
       "      <th>1</th>\n",
       "      <td>200078</td>\n",
       "      <td>78</td>\n",
       "      <td>1920.0</td>\n",
       "      <td>0.0</td>\n",
       "      <td>0.0</td>\n",
       "      <td>0.0</td>\n",
       "      <td>0.0</td>\n",
       "      <td>0.0</td>\n",
       "      <td>61.0</td>\n",
       "      <td>-26.0</td>\n",
       "      <td>...</td>\n",
       "      <td>5.0</td>\n",
       "      <td>3.0</td>\n",
       "      <td>5.0</td>\n",
       "      <td>5.0</td>\n",
       "      <td>1.0</td>\n",
       "      <td>1.0</td>\n",
       "      <td>1.0</td>\n",
       "      <td>1</td>\n",
       "      <td>1</td>\n",
       "      <td>54</td>\n",
       "    </tr>\n",
       "    <tr>\n",
       "      <th>2</th>\n",
       "      <td>200079</td>\n",
       "      <td>79</td>\n",
       "      <td>NaN</td>\n",
       "      <td>NaN</td>\n",
       "      <td>NaN</td>\n",
       "      <td>NaN</td>\n",
       "      <td>NaN</td>\n",
       "      <td>NaN</td>\n",
       "      <td>NaN</td>\n",
       "      <td>NaN</td>\n",
       "      <td>...</td>\n",
       "      <td>4.0</td>\n",
       "      <td>4.0</td>\n",
       "      <td>5.0</td>\n",
       "      <td>5.0</td>\n",
       "      <td>1.0</td>\n",
       "      <td>1.0</td>\n",
       "      <td>1.0</td>\n",
       "      <td>2</td>\n",
       "      <td>3</td>\n",
       "      <td>56</td>\n",
       "    </tr>\n",
       "    <tr>\n",
       "      <th>3</th>\n",
       "      <td>200080</td>\n",
       "      <td>80</td>\n",
       "      <td>1911.0</td>\n",
       "      <td>0.0</td>\n",
       "      <td>0.0</td>\n",
       "      <td>0.0</td>\n",
       "      <td>0.0</td>\n",
       "      <td>0.0</td>\n",
       "      <td>79.0</td>\n",
       "      <td>53.0</td>\n",
       "      <td>...</td>\n",
       "      <td>5.0</td>\n",
       "      <td>5.0</td>\n",
       "      <td>5.0</td>\n",
       "      <td>5.0</td>\n",
       "      <td>1.0</td>\n",
       "      <td>1.0</td>\n",
       "      <td>1.0</td>\n",
       "      <td>1</td>\n",
       "      <td>1</td>\n",
       "      <td>54</td>\n",
       "    </tr>\n",
       "    <tr>\n",
       "      <th>4</th>\n",
       "      <td>200081</td>\n",
       "      <td>81</td>\n",
       "      <td>1917.0</td>\n",
       "      <td>0.0</td>\n",
       "      <td>0.0</td>\n",
       "      <td>0.0</td>\n",
       "      <td>1.0</td>\n",
       "      <td>0.0</td>\n",
       "      <td>75.0</td>\n",
       "      <td>81.0</td>\n",
       "      <td>...</td>\n",
       "      <td>4.0</td>\n",
       "      <td>5.0</td>\n",
       "      <td>5.0</td>\n",
       "      <td>5.0</td>\n",
       "      <td>1.0</td>\n",
       "      <td>1.0</td>\n",
       "      <td>1.0</td>\n",
       "      <td>2</td>\n",
       "      <td>1</td>\n",
       "      <td>40</td>\n",
       "    </tr>\n",
       "  </tbody>\n",
       "</table>\n",
       "<p>5 rows × 1284 columns</p>\n",
       "</div>"
      ],
      "text/plain": [
       "   nsrrid  pptid  ecgdate  lvh3_1  lvh3_3  st4_1_3  st5_1_3  lvhst  ventrate  \\\n",
       "0  200077     77   1915.0     0.0     0.0      0.0      0.0    0.0      73.0   \n",
       "1  200078     78   1920.0     0.0     0.0      0.0      0.0    0.0      61.0   \n",
       "2  200079     79      NaN     NaN     NaN      NaN      NaN    NaN       NaN   \n",
       "3  200080     80   1911.0     0.0     0.0      0.0      0.0    0.0      79.0   \n",
       "4  200081     81   1917.0     0.0     0.0      0.0      1.0    0.0      75.0   \n",
       "\n",
       "    qrs   ...    QuAir  QuChest  QuAbdo  QuOxim  ligh  latreliable  Posn  \\\n",
       "0  18.0   ...      5.0      5.0     5.0     5.0   1.0          1.0   1.0   \n",
       "1 -26.0   ...      5.0      3.0     5.0     5.0   1.0          1.0   1.0   \n",
       "2   NaN   ...      4.0      4.0     5.0     5.0   1.0          1.0   1.0   \n",
       "3  53.0   ...      5.0      5.0     5.0     5.0   1.0          1.0   1.0   \n",
       "4  81.0   ...      4.0      5.0     5.0     5.0   1.0          1.0   1.0   \n",
       "\n",
       "   gender  race  age_s1  \n",
       "0       1     1      41  \n",
       "1       1     1      54  \n",
       "2       2     3      56  \n",
       "3       1     1      54  \n",
       "4       2     1      40  \n",
       "\n",
       "[5 rows x 1284 columns]"
      ]
     },
     "execution_count": 6,
     "metadata": {},
     "output_type": "execute_result"
    }
   ],
   "source": [
    "df_csv.head(5)"
   ]
  },
  {
   "cell_type": "code",
   "execution_count": 7,
   "metadata": {
    "collapsed": true
   },
   "outputs": [],
   "source": [
    "variables = df_csv[df_csv['nsrrid'] == 200081]"
   ]
  },
  {
   "cell_type": "code",
   "execution_count": 8,
   "metadata": {},
   "outputs": [
    {
     "name": "stdout",
     "output_type": "stream",
     "text": [
      "Minutes of sleep: 433\n",
      "Central Apnea Index 0.69\n",
      "RDI: 8.59\n",
      "AHI: 2.63\n"
     ]
    }
   ],
   "source": [
    "print(\"Minutes of sleep: %d\" % variables['slpprdp']) # 433 minutes of sleep for subject: shhs2-200081-nsrr.xml\n",
    "sleep_time = variables['slpprdp']\n",
    "print(\"Central Apnea Index %0.2f\" % variables['cai0p']) #  0.69 Central Apnea Index - numer of [central apneas] per hour of sleep\n",
    "print(\"RDI: %0.2f\" % variables['rdi0p']) # 8.59 Overall Respiratory Disturbance Index (RDI) all oxygen desaturations)\n",
    "print(\"AHI: %0.2f\" % variables['ahi_a0h3']) # 2.63 Apnea-Hypopnea Index (AHI) >= 3% - number of [all apneas] and [hypopneas with >= 3% oxygen desaturation] per hour of sleep"
   ]
  },
  {
   "cell_type": "markdown",
   "metadata": {},
   "source": [
    "Calculation formel for AHI: https://sleepdata.org/datasets/shhs/variables/ahi_a0h3\n",
    "\n",
    "The procedure is the same for all variables. What differs is how/what we calculate as events:\n",
    "\n",
    "Index (events pr. hour) = 60 * events / minutes of sleep\n",
    "\n",
    "However we have to remove events scored in a Wake epoch. \n",
    "But if a scored event streches over multiple epochs and one of them is a Sleep Stage it will not be removed."
   ]
  },
  {
   "cell_type": "code",
   "execution_count": 9,
   "metadata": {},
   "outputs": [
    {
     "name": "stdout",
     "output_type": "stream",
     "text": [
      "Number of central apnea events: 5\n",
      "Central Apnea Index (CAI) calculated: 0.69, expected: 0.69\n"
     ]
    }
   ],
   "source": [
    "df = df_scored_events\n",
    "central_apnea_events = df[df[\"EventConcept\"] == \"Central apnea|Central Apnea\"]\n",
    "events = len(central_apnea_events)\n",
    "print(\"Number of central apnea events: %d\" % events)\n",
    "print(\"Central Apnea Index (CAI) calculated: %0.2f, expected: %0.2f\" % ((60*events/sleep_time), variables['cai0p']))"
   ]
  },
  {
   "cell_type": "markdown",
   "metadata": {},
   "source": [
    "We got the right index without filtering wake events"
   ]
  },
  {
   "cell_type": "code",
   "execution_count": 10,
   "metadata": {},
   "outputs": [
    {
     "name": "stdout",
     "output_type": "stream",
     "text": [
      "Number of RDI events: 63\n",
      "RDI calculated: 8.73, expected: 8.59\n"
     ]
    }
   ],
   "source": [
    "rdi_events = df[df[\"EventConcept\"] == \"Hypopnea|Hypopnea\"]\n",
    "rdi_events = rdi_events.append(central_apnea_events)\n",
    "events = len(rdi_events)\n",
    "print(\"Number of RDI events: %d\" % events)\n",
    "print(\"RDI calculated: %0.2f, expected: %0.2f\" % ((60*events/sleep_time), variables['rdi0p']))"
   ]
  },
  {
   "cell_type": "markdown",
   "metadata": {},
   "source": [
    "In this case we have to remove exactly 1 event scored in a Wake epoch.\n",
    "Lots of ways to do this and this is probably not the best nor prettiest way"
   ]
  },
  {
   "cell_type": "code",
   "execution_count": 11,
   "metadata": {},
   "outputs": [],
   "source": [
    "wake_stages = df_sleep_stages[df_sleep_stages[\"EventConcept\"] == \"Wake|0\"]"
   ]
  },
  {
   "cell_type": "code",
   "execution_count": 12,
   "metadata": {},
   "outputs": [],
   "source": [
    "rdi_events\n",
    "remove_indexes = []\n",
    "index = 0\n",
    "for start, dur in zip(pd.to_numeric(rdi_events[\"Start\"]), pd.to_numeric(rdi_events[\"Duration\"])):\n",
    "    for w_start, w_dur in zip(pd.to_numeric(wake_stages[\"Start\"]), pd.to_numeric(wake_stages[\"Duration\"])):\n",
    "        if start >= w_start and start < w_start+w_dur:\n",
    "            remove_indexes.append(index)     \n",
    "    index += 1"
   ]
  },
  {
   "cell_type": "code",
   "execution_count": 13,
   "metadata": {},
   "outputs": [
    {
     "name": "stdout",
     "output_type": "stream",
     "text": [
      "rdi_events before removal: 63\n",
      "rdi_events after removal: 62\n"
     ]
    }
   ],
   "source": [
    "print(\"rdi_events before removal: %d\" % len(rdi_events))\n",
    "\n",
    "for i in remove_indexes:\n",
    "    rdi_events = rdi_events.drop(rdi_events.index[i])\n",
    "\n",
    "print(\"rdi_events after removal: %d\" % len(rdi_events))"
   ]
  },
  {
   "cell_type": "code",
   "execution_count": 14,
   "metadata": {},
   "outputs": [
    {
     "name": "stdout",
     "output_type": "stream",
     "text": [
      "Number of RDI events: 62\n",
      "RDI calculated: 8.59, expected: 8.59\n"
     ]
    }
   ],
   "source": [
    "events = len(rdi_events)\n",
    "print(\"Number of RDI events: %d\" % events)\n",
    "print(\"RDI calculated: %0.2f, expected: %0.2f\" % ((60*events/sleep_time), variables['rdi0p']))"
   ]
  },
  {
   "cell_type": "markdown",
   "metadata": {},
   "source": [
    "Overall Respiratory Disturbance Index (RDI) uses oxygen desaturation at all levels. \n",
    "But for AHI we need to filter the Hypopneas using the the SpO2 desaturation to look for events only with oxygen saturation >= 3 %.\n",
    "\n",
    "And here comes the problem:"
   ]
  },
  {
   "cell_type": "code",
   "execution_count": 15,
   "metadata": {},
   "outputs": [
    {
     "name": "stdout",
     "output_type": "stream",
     "text": [
      "SpO2 desaturation events: 42 \n",
      "Hypopnea events: 58\n"
     ]
    }
   ],
   "source": [
    "desat = df[df[\"EventConcept\"] == \"SpO2 desaturation|SpO2 desaturation\"]\n",
    "hypopnea = df[df[\"EventConcept\"] == \"Hypopnea|Hypopnea\"]\n",
    "\n",
    "print(\"SpO2 desaturation events: %d \" % len(desat))\n",
    "print(\"Hypopnea events: %d\" % len(hypopnea))"
   ]
  },
  {
   "cell_type": "markdown",
   "metadata": {},
   "source": [
    "Meaning we are missing 16 desaturation events for the corresponding hypopnea events."
   ]
  },
  {
   "cell_type": "code",
   "execution_count": 16,
   "metadata": {},
   "outputs": [],
   "source": [
    "desaturation_above_threshold = 0\n",
    "for nadir, baseline in zip(pd.to_numeric(desat['SpO2Nadir']),pd.to_numeric(desat['SpO2Baseline'])):\n",
    "    if baseline-nadir >= 3:\n",
    "        desaturation_above_threshold +=1"
   ]
  },
  {
   "cell_type": "code",
   "execution_count": 17,
   "metadata": {},
   "outputs": [
    {
     "name": "stdout",
     "output_type": "stream",
     "text": [
      "Desaturation above threshold: 9\n"
     ]
    }
   ],
   "source": [
    "print(\"Desaturation above threshold: %d\" % desaturation_above_threshold)"
   ]
  },
  {
   "cell_type": "markdown",
   "metadata": {},
   "source": [
    "We can add the central_apnea_events because we don't have to use look at the desaturation for them as pr. definition of AHI. "
   ]
  },
  {
   "cell_type": "code",
   "execution_count": 18,
   "metadata": {},
   "outputs": [
    {
     "name": "stdout",
     "output_type": "stream",
     "text": [
      "Number of AHI events: 14\n",
      "AHI calculated: 1.94, expected: 2.63\n"
     ]
    }
   ],
   "source": [
    "events = desaturation_above_threshold + len(central_apnea_events)\n",
    "print(\"Number of AHI events: %d\" % events)\n",
    "print(\"AHI calculated: %0.2f, expected: %0.2f\" % ((60*events/sleep_time), variables['ahi_a0h3']))"
   ]
  },
  {
   "cell_type": "markdown",
   "metadata": {},
   "source": [
    "Meaning we are missing 5 Hypopnea events to get 19 total events which is number needed to match the calculated AHI:"
   ]
  },
  {
   "cell_type": "code",
   "execution_count": 19,
   "metadata": {},
   "outputs": [
    {
     "name": "stdout",
     "output_type": "stream",
     "text": [
      "Number of AHI events: 19\n",
      "AHI calculated: 2.63, expected: 2.63\n"
     ]
    }
   ],
   "source": [
    "print(\"Number of AHI events: %d\" % 19)\n",
    "print(\"AHI calculated: %0.2f, expected: %0.2f\" % ((60*19/sleep_time), variables['ahi_a0h3']))"
   ]
  }
 ],
 "metadata": {
  "kernelspec": {
   "display_name": "Python 3",
   "language": "python",
   "name": "python3"
  },
  "language_info": {
   "codemirror_mode": {
    "name": "ipython",
    "version": 3
   },
   "file_extension": ".py",
   "mimetype": "text/x-python",
   "name": "python",
   "nbconvert_exporter": "python",
   "pygments_lexer": "ipython3",
   "version": "3.6.1"
  }
 },
 "nbformat": 4,
 "nbformat_minor": 2
}
